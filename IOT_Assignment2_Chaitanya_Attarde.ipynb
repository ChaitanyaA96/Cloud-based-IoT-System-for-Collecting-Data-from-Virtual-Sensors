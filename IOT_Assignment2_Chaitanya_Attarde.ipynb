{
 "cells": [
  {
   "cell_type": "code",
   "execution_count": 14,
   "id": "87b9e9e3-47ea-46c0-922a-f0b37466b68b",
   "metadata": {},
   "outputs": [
    {
     "name": "stdout",
     "output_type": "stream",
     "text": [
      "Timer Started at:  2023-04-12 09:19:23.101330\n",
      "Finished at:  2023-04-12 09:20:23.182844\n"
     ]
    }
   ],
   "source": [
    "#Import required libraries\n",
    "import paho.mqtt.client as mqtt\n",
    "import random\n",
    "import time\n",
    "import datetime\n",
    "import csv\n",
    "\n",
    "\n",
    "# MQTT broker address and port and topic\n",
    "ACCESS_TOKEN_1='1qntU93Qh1Eqs39uN2Eg'\n",
    "ACCESS_TOKEN_2='7NZGPA9yJ7GYhZpG5SwY'\n",
    "broker_address = \"demo.thingsboard.io\"\n",
    "broker_port = 1883\n",
    "topic = \"v1/devices/me/telemetry\"\n",
    "\n",
    "# Virtual Enviornmental station 1 function\n",
    "def get_sensor_data_station_1():\n",
    "    data = {}\n",
    "    data['station_Id'] = 1\n",
    "    data['Temperature'] = round(random.uniform(-50, 50), 2)\n",
    "    data['Humidity'] = round(random.uniform(0, 100), 2)\n",
    "    data['CO2'] = round(random.uniform(300, 2000), 2)\n",
    "    data['Rain_Height'] = round(random.uniform(0, 50), 2)\n",
    "    data['Wind_Direction'] = round(random.uniform(0, 360), 2)\n",
    "    data['Wind_Intensity'] = round(random.uniform(0, 100), 2)\n",
    "    return data\n",
    "\n",
    "# Virtual Enviornmental station 2 function\n",
    "def get_sensor_data_station_2():\n",
    "    data = {}\n",
    "    data['station_Id'] = 2\n",
    "    data['Temperature'] = round(random.uniform(-50, 50), 2)\n",
    "    data['Humidity'] = round(random.uniform(0, 100), 2)\n",
    "    data['CO2'] = round(random.uniform(300, 2000), 2)\n",
    "    data['Rain_Height'] = round(random.uniform(0, 50), 2)\n",
    "    data['Wind_Direction'] = round(random.uniform(0, 360), 2)\n",
    "    data['Wind_Intensity'] = round(random.uniform(0, 100), 2)\n",
    "    return data\n",
    "\n",
    "# Connect to MQTT broker\n",
    "client1 = mqtt.Client()   #create client MQTT object to send data to station 1\n",
    "client2 = mqtt.Client()   #create client MQTT object to send data to station 1\n",
    "client1.username_pw_set(ACCESS_TOKEN_1)   #access token from thingsboard device station 1\n",
    "client2.username_pw_set(ACCESS_TOKEN_2)   #access token from thingsboard device station 2\n",
    "client1.connect(broker_address , broker_port , keepalive=60)   #establish connection\n",
    "client2.connect(broker_address , broker_port , keepalive=60)   #establish connection\n",
    "\n",
    "# Get the current time\n",
    "current_time = datetime.datetime.now()\n",
    "\n",
    "# Calculate the time five hours from now\n",
    "target_time = current_time + datetime.timedelta(minutes=1)\n",
    "\n",
    "# Convert target time to timestamp\n",
    "target_timestamp = target_time.timestamp()\n",
    "\n",
    "# Create a csv file to store data for reference\n",
    "with open('sensor_data.csv', mode='w') as file:\n",
    "    writer = csv.writer(file)\n",
    "    writer.writerow(['Station Id','Temperature', 'Humidity', 'CO2', 'Rain_Height', 'Wind_Direction', 'Wind_Intensity','Time_Stamp'])\n",
    "\n",
    "print(\"Timer Started at: \", current_time)\n",
    "\n",
    "# Publish sensor data every 5 seconds until target time is reached \n",
    "while time.time() < target_timestamp:\n",
    "    station1 = get_sensor_data_station_1()\n",
    "    station2 = get_sensor_data_station_2()\n",
    "    client1.publish(topic, str(station1))\n",
    "    client2.publish(topic, str(station2))\n",
    "    # open csv file in append mode to store sensor data\n",
    "    with open('sensor_data.csv', mode='a') as file:\n",
    "        writer = csv.writer(file)\n",
    "        writer.writerow([station1['station_Id'],station1['Temperature'],station1['Humidity'],station1['CO2'], station1['Rain_Height'],station1['Wind_Direction'],station1['Wind_Intensity'],datetime.datetime.now()])\n",
    "        writer.writerow([station2['station_Id'],station2['Temperature'], station2['Humidity'], station2['CO2'], station2['Rain_Height'], station2['Wind_Direction'],station2['Wind_Intensity'],datetime.datetime.now()])\n",
    "\n",
    "    time.sleep(5)\n",
    "\n",
    "print(\"Finished at: \", datetime.datetime.now())"
   ]
  },
  {
   "cell_type": "code",
   "execution_count": null,
   "id": "e05d1f0f-29d1-4b65-a146-e2dbcf571589",
   "metadata": {},
   "outputs": [],
   "source": []
  }
 ],
 "metadata": {
  "kernelspec": {
   "display_name": "Python 3 (ipykernel)",
   "language": "python",
   "name": "python3"
  },
  "language_info": {
   "codemirror_mode": {
    "name": "ipython",
    "version": 3
   },
   "file_extension": ".py",
   "mimetype": "text/x-python",
   "name": "python",
   "nbconvert_exporter": "python",
   "pygments_lexer": "ipython3",
   "version": "3.9.7"
  }
 },
 "nbformat": 4,
 "nbformat_minor": 5
}
